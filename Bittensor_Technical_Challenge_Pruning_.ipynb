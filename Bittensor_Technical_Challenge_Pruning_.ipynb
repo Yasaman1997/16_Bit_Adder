{
  "nbformat": 4,
  "nbformat_minor": 0,
  "metadata": {
    "colab": {
      "name": "Bittensor Technical Challenge - Pruning .ipynb",
      "provenance": [],
      "collapsed_sections": [],
      "authorship_tag": "ABX9TyNyqE2/cG7GGUgjrEUznFVt",
      "include_colab_link": true
    },
    "kernelspec": {
      "name": "python3",
      "display_name": "Python 3"
    },
    "language_info": {
      "name": "python"
    }
  },
  "cells": [
    {
      "cell_type": "markdown",
      "metadata": {
        "id": "view-in-github",
        "colab_type": "text"
      },
      "source": [
        "<a href=\"https://colab.research.google.com/github/Yasaman1997/16_Bit_Adder/blob/master/Bittensor_Technical_Challenge_Pruning_.ipynb\" target=\"_parent\"><img src=\"https://colab.research.google.com/assets/colab-badge.svg\" alt=\"Open In Colab\"/></a>"
      ]
    },
    {
      "cell_type": "code",
      "execution_count": null,
      "metadata": {
        "colab": {
          "base_uri": "https://localhost:8080/"
        },
        "id": "qfr_j2NivZm_",
        "outputId": "567b7d07-9d45-4108-ed4b-a0ec8382f2ce"
      },
      "outputs": [
        {
          "output_type": "stream",
          "name": "stdout",
          "text": [
            "Requirement already satisfied: torch in /usr/local/lib/python3.7/dist-packages (1.10.0+cu111)\n",
            "Requirement already satisfied: typing-extensions in /usr/local/lib/python3.7/dist-packages (from torch) (3.10.0.2)\n"
          ]
        }
      ],
      "source": [
        "pip install torch"
      ]
    },
    {
      "cell_type": "code",
      "source": [
        "import numpy as np\n",
        "import matplotlib.pyplot as plt \n",
        "from collections import OrderedDict\n",
        "from scipy.stats import rankdata\n",
        "from numpy import linalg\n",
        " \n",
        "import torch\n",
        "import torch.nn as nn \n",
        "import torch.nn.functional as functional\n",
        "from torch.utils.data.sampler import SubsetRandomSampler\n",
        "\n",
        "import torchvision\n",
        "from torchvision import transforms, datasets"
      ],
      "metadata": {
        "id": "5ZUpe8bRv_ZE"
      },
      "execution_count": null,
      "outputs": []
    },
    {
      "cell_type": "code",
      "source": [
        "input_size = 784 # input size is 28x28, or 784\n",
        "num_epochs = 10\n",
        "batch_size = 64\n",
        "learning_rate = 0.01 \n",
        "transform = transforms.ToTensor() #convert images to tensor"
      ],
      "metadata": {
        "id": "qgYiRyyvwAgx"
      },
      "execution_count": null,
      "outputs": []
    },
    {
      "cell_type": "code",
      "source": [
        "# Model Architecture\n",
        "# Biases are presumed FALSE since they have to be ignored\n",
        "\n",
        "\n",
        "class Magic_NN(nn.Module):\n",
        "    def __init__(self):\n",
        "        super().__init__()\n",
        "        self.fc1 = nn.Linear(784, 1000, bias=False)\n",
        "        self.fc2 = nn.Linear(1000, 1000, bias=False)\n",
        "        self.fc3 = nn.Linear(1000, 500, bias=False)\n",
        "        self.fc4 = nn.Linear(500, 200, bias=False)\n",
        "        self.fc5 = nn.Linear(200, 10, bias=False)\n",
        "\n",
        "    def forward(self, x):\n",
        "        x = x.view(x.shape[0], -1)\n",
        "        x = functional.relu(self.fc1(x))\n",
        "        x = functional.relu(self.fc2(x))\n",
        "        x = functional.relu(self.fc3(x))\n",
        "        x = functional.relu(self.fc4(x))\n",
        "        x = functional.log_softmax(self.fc5(x), dim=1)\n",
        "        return x"
      ],
      "metadata": {
        "id": "gtb1RnRviOog"
      },
      "execution_count": null,
      "outputs": []
    },
    {
      "cell_type": "code",
      "source": [
        "model=Magic_NN()"
      ],
      "metadata": {
        "id": "pLjwGsVbicmt"
      },
      "execution_count": null,
      "outputs": []
    },
    {
      "cell_type": "code",
      "source": [
        "model"
      ],
      "metadata": {
        "colab": {
          "base_uri": "https://localhost:8080/"
        },
        "id": "aOYf5eJBBCia",
        "outputId": "9a617350-f036-41d0-ca5f-7262f73d79a8"
      },
      "execution_count": null,
      "outputs": [
        {
          "output_type": "execute_result",
          "data": {
            "text/plain": [
              "Magic_NN(\n",
              "  (fc1): Linear(in_features=784, out_features=1000, bias=False)\n",
              "  (fc2): Linear(in_features=1000, out_features=1000, bias=False)\n",
              "  (fc3): Linear(in_features=1000, out_features=500, bias=False)\n",
              "  (fc4): Linear(in_features=500, out_features=200, bias=False)\n",
              "  (fc5): Linear(in_features=200, out_features=10, bias=False)\n",
              ")"
            ]
          },
          "metadata": {},
          "execution_count": 95
        }
      ]
    },
    {
      "cell_type": "code",
      "source": [
        "#download and process the train and test sets\n",
        "\n",
        "trainset = datasets.FashionMNIST('.', train=True, transform=transform,download=True)\n",
        "testset = datasets.FashionMNIST('.', train=False, transform=transform,download=True)"
      ],
      "metadata": {
        "id": "Uw4e9fzOiiMK"
      },
      "execution_count": null,
      "outputs": []
    },
    {
      "cell_type": "code",
      "source": [
        "#loss function : CrossEntropy\n",
        "#Optimizer: Adam , Learning rate is 0.01\n",
        "\n",
        "loss_func = nn.CrossEntropyLoss()\n",
        "optimizer = torch.optim.Adam(model.parameters(), lr=0.01)"
      ],
      "metadata": {
        "id": "kpTF8FZHiw7v"
      },
      "execution_count": null,
      "outputs": []
    },
    {
      "cell_type": "code",
      "source": [
        "#list of indices for spliting data\n",
        "indices = list(range(len(trainset)))\n",
        "np.random.shuffle(indices)\n",
        "\n",
        "#split to 80% for Train and 20% for Validation\n",
        "split = int(np.floor(0.2 * len(trainset)))\n",
        "train_sample = SubsetRandomSampler(indices[:split])\n",
        "valid_sample = SubsetRandomSampler(indices[split:])\n",
        "\n",
        "#prepare Data Loaders\n",
        "trainloader = torch.utils.data.DataLoader(trainset, sampler=train_sample, batch_size=batch_size)\n",
        "validloader = torch.utils.data.DataLoader(trainset, sampler=valid_sample, batch_size=batch_size)\n",
        "testloader = torch.utils.data.DataLoader(testset, batch_size=64, shuffle=True)"
      ],
      "metadata": {
        "id": "MfRFAAQV6JXA"
      },
      "execution_count": null,
      "outputs": []
    },
    {
      "cell_type": "code",
      "source": [
        "#Train The Model\n",
        "for epoch in range(num_epochs):\n",
        "  \n",
        "  #Train loss is: \"loss * batch size\", initialize it to 0\n",
        "  train_loss = 0 \n",
        "\n",
        "  model.train()\n",
        "\n",
        "  for image, label in trainloader:\n",
        "    # we must set the gradients to zero\n",
        "    optimizer.zero_grad()\n",
        "    #send the image to the network\n",
        "    output = model(image)\n",
        "    #calculate the loss\n",
        "    loss = loss_func(output, label)\n",
        "    #Backpropagation\n",
        "    loss.backward()\n",
        "    optimizer.step()\n",
        "\n",
        "    #Calculate the train Loss\n",
        "    train_loss += loss.item() * image.size(0)\n",
        "\n",
        "\n",
        "  #evaluate the model   \n",
        "  model.eval()\n",
        "\n",
        "\n",
        "  #Validation Step\n",
        "  valid_loss = 0 #Validation :loss * batch size\n",
        "  min_valid_loss = np.Inf  #minimum value for validation loss\n",
        "\n",
        "  for image, label in validloader:\n",
        "    # forward pass the image through the network\n",
        "    output = model(image)\n",
        "    # Calculate the loss\n",
        "    loss = loss_func(output, label)\n",
        "    #Calculate the validation loss\n",
        "    valid_loss += loss.item() * image.size(0)\n",
        "\n",
        "\n",
        "  # Total train loss: AVG of train loss, also for validation\n",
        "  train_loss = train_loss/len(trainloader.sampler)\n",
        "  valid_loss = valid_loss/len(validloader.sampler)\n",
        "\n",
        "\n",
        "  print('Epoch: {} \\tTraining Loss: {:.4f} \\tValidation Loss: {:.4f}'.format(epoch+1, train_loss,valid_loss))\n",
        "    \n",
        "  # save model only if validation loss has decreased\n",
        "  if valid_loss <= min_valid_loss:\n",
        "      print('Validation loss decreased ({} : {}).  Save model!'.format(min_valid_loss,valid_loss))\n",
        "      torch.save(model.state_dict(), 'model.pt')\n",
        "      min_valid_loss = valid_loss"
      ],
      "metadata": {
        "colab": {
          "base_uri": "https://localhost:8080/"
        },
        "id": "NKd9OrRj8fAY",
        "outputId": "3d17993c-aca6-452f-e4c7-48548d48b5ee"
      },
      "execution_count": null,
      "outputs": [
        {
          "output_type": "stream",
          "name": "stdout",
          "text": [
            "Epoch: 1 \tTraining Loss: 0.9575 \tValidation Loss: 0.6612\n",
            "Validation loss decreased (inf : 0.661185426513354).  Save model!\n",
            "Epoch: 2 \tTraining Loss: 0.6453 \tValidation Loss: 0.6523\n",
            "Validation loss decreased (inf : 0.6523093454440435).  Save model!\n",
            "Epoch: 3 \tTraining Loss: 0.6513 \tValidation Loss: 0.6256\n",
            "Validation loss decreased (inf : 0.6255972702900569).  Save model!\n",
            "Epoch: 4 \tTraining Loss: 0.5657 \tValidation Loss: 0.5719\n",
            "Validation loss decreased (inf : 0.5719396671454112).  Save model!\n",
            "Epoch: 5 \tTraining Loss: 0.5709 \tValidation Loss: 0.6333\n",
            "Validation loss decreased (inf : 0.6332964800198873).  Save model!\n",
            "Epoch: 6 \tTraining Loss: 0.5656 \tValidation Loss: 0.5697\n",
            "Validation loss decreased (inf : 0.5697133780121804).  Save model!\n",
            "Epoch: 7 \tTraining Loss: 0.6923 \tValidation Loss: 0.5926\n",
            "Validation loss decreased (inf : 0.5926126457850138).  Save model!\n",
            "Epoch: 8 \tTraining Loss: 0.5564 \tValidation Loss: 0.5713\n",
            "Validation loss decreased (inf : 0.5712916107177735).  Save model!\n",
            "Epoch: 9 \tTraining Loss: 0.5443 \tValidation Loss: 0.8452\n",
            "Validation loss decreased (inf : 0.8451660468379657).  Save model!\n",
            "Epoch: 10 \tTraining Loss: 0.5041 \tValidation Loss: 0.5525\n",
            "Validation loss decreased (inf : 0.5525068020621936).  Save model!\n"
          ]
        }
      ]
    },
    {
      "cell_type": "code",
      "source": [
        "# test \n",
        "\n",
        "\n",
        "def test(model, testloader, loss_func):\n",
        "    \n",
        "    test_loss = 0.0\n",
        "    #number of classes, and correct predictions\n",
        "    class_predicted_correct = list(0.0 for i in range(10))\n",
        "    total_classes = list(0.0 for i in range(10))\n",
        "\n",
        "    model.eval()\n",
        "\n",
        "    for data, test_label in testloader:\n",
        "\n",
        "        # send image as input to the model\n",
        "        output = model(data)\n",
        "\n",
        "        # calculate the loss\n",
        "        loss = loss_func(output, test_label)\n",
        "      \n",
        "        # Test loss : loss * data size\n",
        "        test_loss += loss.item()*data.size(0)\n",
        "\n",
        "        # output probabilities must be converted to a class\n",
        "        _, pred = torch.max(output, 1)\n",
        "\n",
        "        # compare prediction with true label\n",
        "        correct = np.squeeze(pred.eq(test_label.data.view_as(pred)))\n",
        "\n",
        "        # calculate accuracy for each object class\n",
        "        for i in range(len(test_label)):\n",
        "            label = test_label.data[i]\n",
        "\n",
        "            class_predicted_correct[label] += correct[i].item()\n",
        "            total_classes[label] += 1\n",
        "\n",
        "    # AVG accuracy\n",
        "    overall_accuracy = 100. * np.sum(class_predicted_correct) / np.sum(total_classes)\n",
        "    return overall_accuracy"
      ],
      "metadata": {
        "id": "c0W6js4cC6Qm"
      },
      "execution_count": null,
      "outputs": []
    },
    {
      "cell_type": "code",
      "source": [
        "accuracy_wp = []\n",
        "accuracy_np = []\n",
        "\n",
        "#accuracy without pruning \n",
        "initial_accuracy = test(model, testloader, loss_func)\n",
        "accuracies_wp.append(initial_accuracy)\n",
        "accuracies_np.append(initial_accuracy)"
      ],
      "metadata": {
        "id": "qwe_jyDyMjA7"
      },
      "execution_count": null,
      "outputs": []
    },
    {
      "cell_type": "code",
      "source": [
        "#pruning\n",
        "prune_percentage = [.0, .25, .50, .60, .70, .80, .90, .95, .97, .99]"
      ],
      "metadata": {
        "id": "IAXQLxMCxGyx"
      },
      "execution_count": null,
      "outputs": []
    },
    {
      "cell_type": "code",
      "source": [
        "# Weight Pruning\n",
        "\n",
        "# Loop through each prune percent\n",
        "for k in prune_percentage[0:]:\n",
        "\n",
        "    # load the trained unprunned model\n",
        "    model = Magic_NN()\n",
        "    model.load_state_dict(torch.load('model.pt'))\n",
        "\n",
        "    # Get all the weights\n",
        "    weights = model.state_dict()\n",
        "\n",
        "    # keys to access model weights\n",
        "    layers = list(model.state_dict())\n",
        "    ranks = {} \n",
        "    pruned_weights = []\n",
        "\n",
        "    # For each layer of network(except output)\n",
        "    for l in layers[:-1]:\n",
        "        # weights for each layer + convert to numpy \n",
        "        data = weights[l]\n",
        "        w = np.array(data)\n",
        "\n",
        "        # Rank the weights element\n",
        "        ranks[l]=(rankdata(np.abs(w), method='dense') - 1).astype(int).reshape(w.shape)\n",
        "\n",
        "        # Get the threshold value based on the value of k(prune percentage) \n",
        "        lower_bound_rank = np.ceil(np.max(ranks[l]) * k).astype(int)\n",
        "\n",
        "        # Assign rank elements to 0 that are less than or equal to the threshold and 1 to those that are above.\n",
        "        ranks[l][ranks[l] <= lower_bound_rank] = 0\n",
        "        ranks[l][ranks[l] > lower_bound_rank] = 1\n",
        "\n",
        "        # Multiply weights array with ranks to zero out the lower ranked weights\n",
        "        w = w * ranks[l]\n",
        "\n",
        "        # Assign the updated weights as tensor to data and append to the pruned_weights list \n",
        "        data[...] = torch.from_numpy(w)\n",
        "        pruned_weights.append(data)\n",
        "\n",
        "    # Append the last layer weights as it is\n",
        "    pruned_weights.append(weights[layers[-1]])\n",
        "\n",
        "    # Update the model weights with all the updated weights \n",
        "    new_state_dict = OrderedDict()\n",
        "\n",
        "    #saving model state after prunning\n",
        "    for l, pw in zip(layers, pruned_weights):\n",
        "      new_state_dict[l] = pw\n",
        "    model.state_dict = new_state_dict\n",
        "\n",
        "    # append the test accuracy to accuracies_wp\n",
        "    accuracy_wp.append(test(model, testloader, loss_func))"
      ],
      "metadata": {
        "id": "kCmzDsuiWa-6"
      },
      "execution_count": null,
      "outputs": []
    },
    {
      "cell_type": "code",
      "source": [
        "accuracy_wp"
      ],
      "metadata": {
        "colab": {
          "base_uri": "https://localhost:8080/"
        },
        "id": "0bxNJMO711Jl",
        "outputId": "9370602a-b05b-468d-ae9b-8e196e866453"
      },
      "execution_count": null,
      "outputs": [
        {
          "output_type": "execute_result",
          "data": {
            "text/plain": [
              "[79.8, 79.64, 79.62, 79.66, 79.72, 79.7, 79.52, 79.17, 70.86, 29.43]"
            ]
          },
          "metadata": {},
          "execution_count": 104
        }
      ]
    },
    {
      "cell_type": "code",
      "source": [
        "# Neuron Pruning\n",
        "\n",
        "\n",
        "for k in prune_percentage[0:]:\n",
        "   # load the trained unprunned model\n",
        "    model = Magic_NN()\n",
        "    model.load_state_dict(torch.load('model.pt'))\n",
        "\n",
        "    # Get all the weights\n",
        "    weights = model.state_dict()\n",
        "    layers = list(model.state_dict())\n",
        "    ranks = {}\n",
        "    pruned_weights = []\n",
        "\n",
        "    # For each layer of network(except output)\n",
        "    for l in layers[:-1]:\n",
        "      # weights for each layer + convert to numpy \n",
        "        data = weights[l]\n",
        "        w = np.array(data)\n",
        "\n",
        "        # taking norm for each neuron\n",
        "        norm = linalg.norm(w, axis=0)\n",
        "\n",
        "        # repeat the norm values to get the shape similar to that of layer weights\n",
        "        norm = np.tile(norm, (w.shape[0],1))\n",
        "\n",
        "        # Rank the weights element\n",
        "        ranks[l] = (rankdata(norm, method='dense') - 1).astype(int).reshape(norm.shape)\n",
        "\n",
        "        # Get the threshold value based on the value of k(prune percentage) \n",
        "        lower_bound_rank = np.ceil(np.max(ranks[l])*k).astype(int)\n",
        "\n",
        "        # Assign rank elements to 0 that are less than or equal to the threshold and 1 to those that are above.         \n",
        "        ranks[l][ranks[l] <= lower_bound_rank] = 0\n",
        "        ranks[l][ranks[l] > lower_bound_rank] = 1\n",
        "\n",
        "        # Multiply weights array with ranks to zero out the lower ranked weights\n",
        "        w = w * ranks[l]\n",
        "\n",
        "        # Assign the updated weights as tensor to data and append to the pruned_weights list \n",
        "        data[...] = torch.from_numpy(w)\n",
        "\n",
        "        # Append the last layer weights as it is\n",
        "        pruned_weights.append(data)\n",
        "\n",
        "\n",
        "    # Append the last layer weights as it is\n",
        "    pruned_weights.append(weights[layers[-1]])\n",
        "\n",
        "\n",
        "    # Update the model weights with all the updated weights \n",
        "    new_state_dict = OrderedDict()\n",
        "\n",
        "    #saving model state after prunning\n",
        "    for l, pw in zip(layers, pruned_weights):\n",
        "      new_state_dict[l] = pw\n",
        "\n",
        "    model.state_dict = new_state_dict\n",
        "    accuracy_np.append(test(model, testloader, loss_func))"
      ],
      "metadata": {
        "id": "cmY-p9oWWeen"
      },
      "execution_count": null,
      "outputs": []
    },
    {
      "cell_type": "code",
      "source": [
        "accuracies_np"
      ],
      "metadata": {
        "colab": {
          "base_uri": "https://localhost:8080/"
        },
        "id": "3n0m8g8V2AsE",
        "outputId": "03ad5457-4de7-4b9a-d8c3-b787ae0f1fb0"
      },
      "execution_count": null,
      "outputs": [
        {
          "output_type": "execute_result",
          "data": {
            "text/plain": [
              "[82.43,\n",
              " 78.14,\n",
              " 69.94,\n",
              " 58.73,\n",
              " 53.09,\n",
              " 51.94,\n",
              " 42.9,\n",
              " 31.66,\n",
              " 22.73,\n",
              " 13.75,\n",
              " 82.41,\n",
              " 10.0,\n",
              " 10.0,\n",
              " 67.23,\n",
              " 13.75,\n",
              " 67.23,\n",
              " 13.75,\n",
              " 82.43,\n",
              " 79.8]"
            ]
          },
          "metadata": {},
          "execution_count": 106
        }
      ]
    },
    {
      "cell_type": "markdown",
      "source": [
        "plot showing the percent sparsity (number of weights in the network that are zero) versus percent accuracy with two curves (one for weight pruning and one for unit pruning)"
      ],
      "metadata": {
        "id": "lpRHd02T0Zi4"
      }
    },
    {
      "cell_type": "code",
      "source": [
        "# Plot the sparsity vs accuracy graph\n",
        "\n",
        "import matplotlib.pyplot as plt\n",
        "\n",
        "plt.plot(prune_percentage, accuracy_wp, label='Weight Pruning')\n",
        "plt.plot(prune_percentage, accuracy_np, label='Neuron Pruning')\n",
        "plt.legend(loc='best')\n",
        "plt.xlabel('% sparsity')\n",
        "plt.ylabel('% accuracy')\n",
        "plt.show()"
      ],
      "metadata": {
        "colab": {
          "base_uri": "https://localhost:8080/",
          "height": 279
        },
        "id": "NvXs7O0lWl-r",
        "outputId": "80520e92-3c67-47dc-a603-6d64e516089e"
      },
      "execution_count": null,
      "outputs": [
        {
          "output_type": "display_data",
          "data": {
            "image/png": "[encoded data removed]",
            "text/plain": [
              "<Figure size 432x288 with 1 Axes>"
            ]
          },
          "metadata": {
            "needs_background": "light"
          }
        }
      ]
    },
    {
      "cell_type": "markdown",
      "source": [
        "In Weight prunning: As we increase the percentage of pruning/sparsity, the perormance will not degrade even if we prune a large portion of weights(96%), which is great!"
      ],
      "metadata": {
        "id": "16KJ3C0b2r3L"
      }
    },
    {
      "cell_type": "markdown",
      "source": [
        "In Neuron Prunning: As we increase the percentage of pruning/sparsity, the perormance will degrade, but we still can reduce the size of model to 40% and still have the 70% accuracy, which is great!"
      ],
      "metadata": {
        "id": "26n-JsKs3Ndd"
      }
    },
    {
      "cell_type": "markdown",
      "source": [
        "\"Both types of pruning simplify network structure, but  nodes pruning does better job. While weights pruning can give better results at cost of  more complex ANN structure and higher   computational time. Of course  if some  data  set  have complex structure – in such cases both  approaches will end up  with   only  slightly  pruned   neural   network   – but  with   better generalization   value.\"\n",
        "\n",
        "\n",
        "Source: https://www.researchgate.net/publication/281431594_Neurons_vs_Weights_Pruning_in_Artificial_Neural_Networks"
      ],
      "metadata": {
        "id": "IUebrwv3FjmC"
      }
    },
    {
      "cell_type": "markdown",
      "source": [
        "**Interesting Insights:**\n",
        "============================\n",
        "\n",
        "\n",
        "\"It is often unclear whether a network has learned a solution which will generalise to new situations or not. By deleting progressively larger and larger groups of neurons, we found that networks which generalise well were much more robust to deletions than networks which simply memorised images that were previously seen during training. In other words, networks which generalise better are harder to break (although they can definitely still be broken). \"\n",
        "\n",
        "\n",
        "\"These findings demonstrate the power of using techniques inspired by experimental neuroscience to understand neural networks. Using these methods, we found that highly selective individual neurons are no more important than non-selective neurons, and that networks which generalise well are much less reliant on individual neurons than those which simply memorise the training data. These results imply that individual neurons may be much less important than a first glance may suggest.\"\n",
        "\n",
        "Source: https://deepmind.com/blog/article/understanding-deep-learning-through-neuron-deletion\n",
        "\n",
        "\n",
        "\n",
        "\"This has been observed in several papers and can be interpreted as a post-training network regularization. Even if you’re not looking to compress your model, you might want to have a go at pruning as a way to improve its generalization performance.\"\n",
        "\n",
        "Source: https://blog.dataiku.com/making-neural-networks-smaller-for-better-deployment-solving-the-size-problem-of-cnns-using-network-pruning-with-keras\n",
        "\n",
        "================================================================"
      ],
      "metadata": {
        "id": "0rDZ2rgA5qiJ"
      }
    },
    {
      "cell_type": "markdown",
      "source": [
        "I found this article interesting about speeding up the execution of neural networks:\n",
        "\n",
        "https://ai.googleblog.com/2021/03/accelerating-neural-networks-on-mobile.html"
      ],
      "metadata": {
        "id": "aBOCZXW6BdRF"
      }
    },
    {
      "cell_type": "code",
      "source": [
        ""
      ],
      "metadata": {
        "id": "GbujcjC-Bdmv"
      },
      "execution_count": null,
      "outputs": []
    }
  ]
}